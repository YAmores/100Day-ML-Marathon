{
 "cells": [
  {
   "cell_type": "markdown",
   "metadata": {},
   "source": [
    "## [作業重點]\n",
    "使用 Sklearn 中的 Lasso, Ridge 模型，來訓練各種資料集，務必了解送進去模型訓練的**資料型態**為何，也請了解模型中各項參數的意義。\n",
    "\n",
    "機器學習的模型非常多種，但要訓練的資料多半有固定的格式，確保你了解訓練資料的格式為何，這樣在應用新模型時，就能夠最快的上手開始訓練！"
   ]
  },
  {
   "cell_type": "markdown",
   "metadata": {},
   "source": [
    "## 練習時間\n",
    "試著使用 sklearn datasets 的其他資料集 (boston, ...)，來訓練自己的線性迴歸模型，並加上適當的正則話來觀察訓練情形。"
   ]
  },
  {
   "cell_type": "code",
   "execution_count": 30,
   "metadata": {},
   "outputs": [],
   "source": [
    "import numpy as np\n",
    "import matplotlib.pyplot as plt\n",
    "from sklearn import datasets, linear_model\n",
    "from sklearn.model_selection import train_test_split\n",
    "from sklearn.metrics import mean_squared_error, r2_score"
   ]
  },
  {
   "cell_type": "code",
   "execution_count": 31,
   "metadata": {},
   "outputs": [],
   "source": [
    "#Import dataset\n",
    "boston = datasets.load_boston()\n",
    "\n",
    "#train_test_split\n",
    "x_train, x_test, y_train, y_test = train_test_split(boston.data, boston.target, test_size = 0.2, random_state = 4)\n",
    "\n",
    "#Import regression type\n",
    "lasso = linear_model.Lasso(alpha = 1.0)\n",
    "\n",
    "#Fit the regression\n",
    "lasso.fit(x_train, y_train)\n",
    "\n",
    "#Run the regression\n",
    "y_pred = lasso.predict(x_test)"
   ]
  },
  {
   "cell_type": "code",
   "execution_count": 32,
   "metadata": {},
   "outputs": [
    {
     "data": {
      "text/plain": [
       "array([-0.06479441,  0.04581271, -0.        ,  0.        , -0.        ,\n",
       "        1.17737271,  0.011112  , -0.73717556,  0.23337442, -0.01550582,\n",
       "       -0.69307422,  0.00769147, -0.69322155])"
      ]
     },
     "execution_count": 32,
     "metadata": {},
     "output_type": "execute_result"
    }
   ],
   "source": [
    "#Corr (Lasso)\n",
    "lasso.coef_"
   ]
  },
  {
   "cell_type": "code",
   "execution_count": 33,
   "metadata": {},
   "outputs": [
    {
     "name": "stdout",
     "output_type": "stream",
     "text": [
      "Mean squared error: 28.95\n"
     ]
    }
   ],
   "source": [
    "#MSE (Lasso)\n",
    "print(\"Mean squared error: %.2f\"\n",
    "      % mean_squared_error(y_test, y_pred))"
   ]
  },
  {
   "cell_type": "code",
   "execution_count": 34,
   "metadata": {},
   "outputs": [],
   "source": [
    "#Import dataset\n",
    "wine = datasets.load_wine()\n",
    "\n",
    "#train_test_split\n",
    "x_train, x_test, y_train, y_test = train_test_split(wine.data, wine.target, test_size = 0.4, random_state = 2)\n",
    "\n",
    "#Import regression type\n",
    "ridge = linear_model.Ridge(alpha = 1.0)\n",
    "\n",
    "#Fit the regression\n",
    "ridge.fit(x_train, y_train)\n",
    "\n",
    "#Run the regression\n",
    "y_pred = ridge.predict(x_test)"
   ]
  },
  {
   "cell_type": "code",
   "execution_count": 35,
   "metadata": {},
   "outputs": [
    {
     "data": {
      "text/plain": [
       "array([-0.13605399,  0.03154963, -0.23044034,  0.05977789, -0.0004069 ,\n",
       "        0.1681644 , -0.38268072, -0.03967958, -0.01975335,  0.0915098 ,\n",
       "       -0.18649235, -0.16873709, -0.00059358])"
      ]
     },
     "execution_count": 35,
     "metadata": {},
     "output_type": "execute_result"
    }
   ],
   "source": [
    "#Corr (Ridge)\n",
    "ridge.coef_"
   ]
  },
  {
   "cell_type": "code",
   "execution_count": 36,
   "metadata": {},
   "outputs": [
    {
     "name": "stdout",
     "output_type": "stream",
     "text": [
      "Mean squarred error: 0.08\n"
     ]
    }
   ],
   "source": [
    "print(\"Mean squarred error: %.2f\"\n",
    "     % mean_squared_error(y_test, y_pred))"
   ]
  }
 ],
 "metadata": {
  "kernelspec": {
   "display_name": "Python 3",
   "language": "python",
   "name": "python3"
  },
  "language_info": {
   "codemirror_mode": {
    "name": "ipython",
    "version": 3
   },
   "file_extension": ".py",
   "mimetype": "text/x-python",
   "name": "python",
   "nbconvert_exporter": "python",
   "pygments_lexer": "ipython3",
   "version": "3.7.0"
  }
 },
 "nbformat": 4,
 "nbformat_minor": 2
}
